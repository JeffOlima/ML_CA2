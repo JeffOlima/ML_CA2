{
 "cells": [
  {
   "cell_type": "markdown",
   "metadata": {},
   "source": [
    "CCT College Dublin\n",
    "Lecture Name: David McQuaid\n",
    "Module Title: Machine Learning for AI\n",
    "Student Full Name: Jefferson de Oliveira Lima \n",
    "Student Number: 2020373\n",
    "Date of Submission: 31/05/2024\n",
    "github: https://github.com/JeffOlima/ML_CA2#"
   ]
  },
  {
   "cell_type": "markdown",
   "metadata": {},
   "source": [
    "#Neural Networks"
   ]
  },
  {
   "cell_type": "markdown",
   "metadata": {
    "vscode": {
     "languageId": "plaintext"
    }
   },
   "source": [
    "In order to predict the \"Income(Thousands')\" of customers, the initial stage was preparing the data from the \"BankRecords.csv\" file for use in a neural network and regression method. There were numerous significant stages to the planning. The pandas DataFrame included the dataset at first. Binary categorical variables such as \"Personal Loan,\" \"Securities Account,\" \"CD Account,\" \"Online Banking,\" and \"CreditCard\" have been numerically valued (0 for \"No\" and 1 for \"Yes\") in order to be used in model training. Then, in order to provide distinct columns for every category, the 'Education' column was one-hot encoded. There were three possible values for this column: master's, degree, and diploma. This approach prevented issues with ordinal encoding and allowed the model to treat education levels as distinct groups. \n",
    "\n",
    "Numerical features such as \"Age,\" \"Experience (Years),\" \"Credit Score,\" and \"Mortgage (Thousands's)\" were standardised using the StandardScaler. Normalisation improved training performance and resolution rates by ensuring features with different scales didn't impact the model equally. The original \"Education\" column was eliminated, along with non-predictive fields like \"ID\" and \"Sort Code.\" The variable (y) had the goal of 'Income(Thousands's)'; the other columns functioned as features (X). In order to standardise the data and improve the efficiency of the model training process, these preparations were crucial.   \n",
    "\n",
    "The two models that were employed were a neural network and a random forest regression. The neural network was a sequential model with two layers. ReLU triggered 13 neurons in the input layer (one for each feature), and one neuron for the regression task was included in the output layer. The model was compiled using the Adam optimizer and the mean squared error loss function. After ten epochs of training with a batch size of 10, it produced an R-squared value of 0.46 and a mean squared error (MSE) of 1134.37 on the test set. However, after training with the Random Forest Regressor, which obtained an MSE of 389.38 and an R-squared value of 0.82, it exceeded the neural network in both metrics.\n",
    "\n",
    "The data was prepared in a similar manner, normalising the numerical attributes, for a fresh customer. The neural network projected an income of 75.98 (Thousands), compared to the Random Forest Regressor's prediction of 67.57 (Thousands). The Random Forest Regressor provided more accurate and dependable predictions, as seen by its higher performance metrics. Because of its better prediction accuracy over neural networks and ability to manage irregular associations and feature interactions, the Random Forest Regressor was chosen as the better alternative for projecting client income. This careful data preparation and model validation process ensured strong and reliable predictions for the given task.\n"
   ]
  },
  {
   "cell_type": "code",
   "execution_count": 5,
   "metadata": {},
   "outputs": [
    {
     "name": "stdout",
     "output_type": "stream",
     "text": [
      "Requirement already satisfied: keras in c:\\users\\olive\\anaconda3\\lib\\site-packages (3.3.3)\n",
      "Requirement already satisfied: absl-py in c:\\users\\olive\\anaconda3\\lib\\site-packages (from keras) (2.0.0)\n",
      "Requirement already satisfied: numpy in c:\\users\\olive\\anaconda3\\lib\\site-packages (from keras) (1.24.3)\n",
      "Requirement already satisfied: rich in c:\\users\\olive\\anaconda3\\lib\\site-packages (from keras) (13.7.1)\n",
      "Requirement already satisfied: namex in c:\\users\\olive\\anaconda3\\lib\\site-packages (from keras) (0.0.8)\n",
      "Requirement already satisfied: h5py in c:\\users\\olive\\anaconda3\\lib\\site-packages (from keras) (3.11.0)\n",
      "Requirement already satisfied: optree in c:\\users\\olive\\anaconda3\\lib\\site-packages (from keras) (0.11.0)\n",
      "Requirement already satisfied: ml-dtypes in c:\\users\\olive\\anaconda3\\lib\\site-packages (from keras) (0.3.2)\n",
      "Requirement already satisfied: typing-extensions>=4.0.0 in c:\\users\\olive\\anaconda3\\lib\\site-packages (from optree->keras) (4.7.1)\n",
      "Requirement already satisfied: markdown-it-py>=2.2.0 in c:\\users\\olive\\anaconda3\\lib\\site-packages (from rich->keras) (2.2.0)\n",
      "Requirement already satisfied: pygments<3.0.0,>=2.13.0 in c:\\users\\olive\\anaconda3\\lib\\site-packages (from rich->keras) (2.15.1)\n",
      "Requirement already satisfied: mdurl~=0.1 in c:\\users\\olive\\anaconda3\\lib\\site-packages (from markdown-it-py>=2.2.0->rich->keras) (0.1.0)\n",
      "Note: you may need to restart the kernel to use updated packages.\n"
     ]
    }
   ],
   "source": [
    "pip install keras"
   ]
  },
  {
   "cell_type": "code",
   "execution_count": 6,
   "metadata": {},
   "outputs": [
    {
     "name": "stdout",
     "output_type": "stream",
     "text": [
      "Random Forest Regressor Mean Squared Error: 389.3815946716255\n",
      "Random Forest Regressor R-squared: 0.8163745567116953\n",
      "\u001b[1m32/32\u001b[0m \u001b[32m━━━━━━━━━━━━━━━━━━━━\u001b[0m\u001b[37m\u001b[0m \u001b[1m0s\u001b[0m 1ms/step \n",
      "Neural Network Mean Squared Error: 1179.7467998234677\n",
      "Neural Network R-squared: 0.44365236557153276\n",
      "\u001b[1m1/1\u001b[0m \u001b[32m━━━━━━━━━━━━━━━━━━━━\u001b[0m\u001b[37m\u001b[0m \u001b[1m0s\u001b[0m 17ms/step\n",
      "Predicted Income (Neural Network): 74.72105407714844\n",
      "Predicted Income (Random Forest Regressor): 67.57\n"
     ]
    }
   ],
   "source": [
    "import pandas as pd\n",
    "import numpy as np\n",
    "from sklearn.preprocessing import OneHotEncoder, StandardScaler\n",
    "from keras.models import Sequential\n",
    "from keras.layers import Dense\n",
    "from sklearn.model_selection import train_test_split\n",
    "from sklearn.ensemble import RandomForestRegressor\n",
    "from sklearn.metrics import mean_squared_error, r2_score\n",
    "\n",
    "import warnings\n",
    "warnings.filterwarnings(\"ignore\")\n",
    "\n",
    "# Read the dataset\n",
    "data = pd.read_csv('./BankRecords.csv')\n",
    "\n",
    "# Convert binary categorical variables to numerical\n",
    "data['Personal Loan'] = data['Personal Loan'].apply(lambda val: 1 if val == 'Yes' else 0)\n",
    "data['Securities Account'] = data['Securities Account'].apply(lambda val: 1 if val == 'Yes' else 0)\n",
    "data['CD Account'] = data['CD Account'].apply(lambda val: 1 if val == 'Yes' else 0)\n",
    "data['Online Banking'] = data['Online Banking'].apply(lambda val: 1 if val == 'Yes' else 0)\n",
    "data['CreditCard'] = data['CreditCard'].apply(lambda val: 1 if val == 'Yes' else 0)\n",
    "\n",
    "# One-hot encode the 'Education' column\n",
    "one_hot_encoder = OneHotEncoder()\n",
    "encoded_education = one_hot_encoder.fit_transform(data[['Education']]).toarray()\n",
    "encoded_education_df = pd.DataFrame(encoded_education, columns=one_hot_encoder.get_feature_names_out(['Education']))\n",
    "\n",
    "# Concatenate the one-hot encoded variables with the original DataFrame\n",
    "data = pd.concat([data, encoded_education_df], axis=1)\n",
    "\n",
    "# Drop the original 'Education' column and other non-predictive columns\n",
    "data.drop(['ID', 'Sort Code', 'Education'], axis=1, inplace=True)\n",
    "\n",
    "# Identify numerical features\n",
    "numerical_columns = ['Age', 'Experience(Years)', 'Credit Score', 'Mortgage(Thousands\\'s)']\n",
    "\n",
    "# Normalize numerical features\n",
    "scaler = StandardScaler()\n",
    "data[numerical_columns] = scaler.fit_transform(data[numerical_columns])\n",
    "\n",
    "# Define features (X) and target variable (y)\n",
    "X = data.drop('Income(Thousands\\'s)', axis=1)\n",
    "y = data['Income(Thousands\\'s)']\n",
    "\n",
    "# Split the data into training and testing sets\n",
    "X_train, X_test, y_train, y_test = train_test_split(X, y, test_size=0.2, random_state=42)\n",
    "\n",
    "# Define the Neural Network model\n",
    "nn_model = Sequential()\n",
    "nn_model.add(Dense(13, input_dim=X_train.shape[1], activation='relu'))  \n",
    "nn_model.add(Dense(1))  \n",
    "\n",
    "# Compile the model\n",
    "nn_model.compile(optimizer='adam', loss='mean_squared_error')\n",
    "\n",
    "# Train the model\n",
    "nn_history = nn_model.fit(X_train, y_train, validation_split=0.2, epochs=10, batch_size=10, verbose=0)\n",
    "\n",
    "# Train a Random Forest Regressor\n",
    "rf_model = RandomForestRegressor(n_estimators=100, random_state=42)\n",
    "rf_model.fit(X_train, y_train)\n",
    "\n",
    "# Predict and evaluate the Random Forest Regressor\n",
    "y_pred_rf = rf_model.predict(X_test)\n",
    "rf_mse = mean_squared_error(y_test, y_pred_rf)\n",
    "rf_r2 = r2_score(y_test, y_pred_rf)\n",
    "\n",
    "print(f'Random Forest Regressor Mean Squared Error: {rf_mse}')\n",
    "print(f'Random Forest Regressor R-squared: {rf_r2}')\n",
    "\n",
    "# Predict and evaluate the Neural Network\n",
    "y_pred_nn = nn_model.predict(X_test)\n",
    "nn_mse = mean_squared_error(y_test, y_pred_nn)\n",
    "nn_r2 = r2_score(y_test, y_pred_nn)\n",
    "\n",
    "print(f'Neural Network Mean Squared Error: {nn_mse}')\n",
    "print(f'Neural Network R-squared: {nn_r2}')\n",
    "\n",
    "# Example new customer data \n",
    "new_customer_data = {\n",
    "    'Age': 40,\n",
    "    'Experience(Years)': 15,\n",
    "    'Family': 2,\n",
    "    'Credit Score': 1.8,\n",
    "    'Mortgage(Thousands\\'s)': 0,\n",
    "    'Personal Loan': 0,\n",
    "    'Securities Account': 1,\n",
    "    'CD Account': 0,\n",
    "    'Online Banking': 1,\n",
    "    'CreditCard': 0,\n",
    "    'Education_Degree': 0,\n",
    "    'Education_Diploma': 1,   \n",
    "    'Education_Masters': 0 \n",
    "}\n",
    "\n",
    "# Convert to DataFrame\n",
    "new_customer_df = pd.DataFrame([new_customer_data])\n",
    "\n",
    "# Normalize numerical features\n",
    "new_customer_df[numerical_columns] = scaler.transform(new_customer_df[numerical_columns])\n",
    "\n",
    "# Reshape input data to match the neural network model\n",
    "new_customer_array = new_customer_df.to_numpy()\n",
    "new_customer_array = new_customer_array.reshape((1, -1))  # Reshaping to have a batch size of 1\n",
    "\n",
    "# Make predictions\n",
    "nn_income_prediction = nn_model.predict(new_customer_array)\n",
    "rf_income_prediction = rf_model.predict(new_customer_df)\n",
    "\n",
    "print(f'Predicted Income (Neural Network): {nn_income_prediction[0][0]}')\n",
    "print(f'Predicted Income (Random Forest Regressor): {rf_income_prediction[0]}')"
   ]
  }
 ],
 "metadata": {
  "kernelspec": {
   "display_name": "base",
   "language": "python",
   "name": "python3"
  },
  "language_info": {
   "codemirror_mode": {
    "name": "ipython",
    "version": 3
   },
   "file_extension": ".py",
   "mimetype": "text/x-python",
   "name": "python",
   "nbconvert_exporter": "python",
   "pygments_lexer": "ipython3",
   "version": "3.11.4"
  }
 },
 "nbformat": 4,
 "nbformat_minor": 2
}
